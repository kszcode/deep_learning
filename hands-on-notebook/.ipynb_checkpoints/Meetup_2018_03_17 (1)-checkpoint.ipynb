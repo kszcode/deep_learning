{
 "cells": [
  {
   "cell_type": "code",
   "execution_count": 1,
   "metadata": {
    "colab": {
     "autoexec": {
      "startup": false,
      "wait_interval": 0
     }
    },
    "colab_type": "code",
    "id": "X1V4U6fu-sAu"
   },
   "outputs": [
    {
     "name": "stderr",
     "output_type": "stream",
     "text": [
      "Using TensorFlow backend.\n"
     ]
    }
   ],
   "source": [
    "import keras\n",
    "from keras.models import Model, Input\n",
    "from keras.layers import Conv2D, Activation, MaxPool2D, Flatten, Dense\n",
    "from keras.layers import BatchNormalization\n",
    "\n",
    "from keras.datasets import mnist\n",
    "from keras.optimizers import SGD\n",
    "from keras.utils import to_categorical\n",
    "import numpy as np\n",
    "from numpy.random import seed\n",
    "\n",
    "seed(42)\n",
    "\n",
    "import time\n",
    "\n",
    "import matplotlib.pyplot as plt"
   ]
  },
  {
   "cell_type": "code",
   "execution_count": null,
   "metadata": {
    "colab": {
     "autoexec": {
      "startup": false,
      "wait_interval": 0
     }
    },
    "colab_type": "code",
    "id": "TuML0d8PG2qQ"
   },
   "outputs": [],
   "source": []
  },
  {
   "cell_type": "markdown",
   "metadata": {
    "colab_type": "text",
    "id": "zOFrWhPDBKDz"
   },
   "source": [
    "# Magic numbers"
   ]
  },
  {
   "cell_type": "code",
   "execution_count": 2,
   "metadata": {
    "colab": {
     "autoexec": {
      "startup": false,
      "wait_interval": 0
     }
    },
    "colab_type": "code",
    "id": "LebSJ7nW_Qfh"
   },
   "outputs": [],
   "source": [
    "nb_classes=10\n",
    "optim = SGD()\n",
    "pix_ox, pix_oy = (28, 28)\n",
    "\n",
    "epochs = 10\n",
    "batch_size = 128\n"
   ]
  },
  {
   "cell_type": "markdown",
   "metadata": {
    "colab_type": "text",
    "id": "79S1NnUXAlnr"
   },
   "source": [
    "# Load the dataset"
   ]
  },
  {
   "cell_type": "code",
   "execution_count": 3,
   "metadata": {
    "colab": {
     "autoexec": {
      "startup": false,
      "wait_interval": 0
     },
     "base_uri": "https://localhost:8080/",
     "height": 34,
     "output_extras": [
      {
       "item_id": 1
      }
     ]
    },
    "colab_type": "code",
    "executionInfo": {
     "elapsed": 566,
     "status": "ok",
     "timestamp": 1521296107003,
     "user": {
      "displayName": "Kuki Szabolcs",
      "photoUrl": "https://lh3.googleusercontent.com/a/default-user=s128",
      "userId": "103845864713165439760"
     },
     "user_tz": -120
    },
    "id": "LPZazegZ_QiI",
    "outputId": "4ca595b2-0785-4b36-f347-ad6baab8d170"
   },
   "outputs": [
    {
     "name": "stdout",
     "output_type": "stream",
     "text": [
      "/usr/local/lib/python3.6/site-packages/keras/datasets/mnist.py\n"
     ]
    }
   ],
   "source": [
    "print(mnist.__file__)"
   ]
  },
  {
   "cell_type": "markdown",
   "metadata": {
    "colab_type": "text",
    "id": "laXABn3_AoMV"
   },
   "source": [
    "# Import the dataset"
   ]
  },
  {
   "cell_type": "code",
   "execution_count": 4,
   "metadata": {
    "colab": {
     "autoexec": {
      "startup": false,
      "wait_interval": 0
     }
    },
    "colab_type": "code",
    "id": "7kjMFlDc_Qkx"
   },
   "outputs": [],
   "source": [
    "(x_train, y_train), (x_test, y_test) = mnist.load_data()"
   ]
  },
  {
   "cell_type": "code",
   "execution_count": 5,
   "metadata": {
    "colab": {
     "autoexec": {
      "startup": false,
      "wait_interval": 0
     },
     "base_uri": "https://localhost:8080/",
     "height": 85,
     "output_extras": [
      {
       "item_id": 1
      }
     ]
    },
    "colab_type": "code",
    "executionInfo": {
     "elapsed": 592,
     "status": "ok",
     "timestamp": 1521296108488,
     "user": {
      "displayName": "Kuki Szabolcs",
      "photoUrl": "https://lh3.googleusercontent.com/a/default-user=s128",
      "userId": "103845864713165439760"
     },
     "user_tz": -120
    },
    "id": "Rhmmol1K_QnI",
    "outputId": "37e53c32-f91f-4115-b242-c00ec135241e"
   },
   "outputs": [
    {
     "name": "stdout",
     "output_type": "stream",
     "text": [
      "Shape of x_train: (60000, 28, 28)\n",
      "Shape of y_train: (60000,)\n",
      "Shape of x_test: (10000, 28, 28)\n",
      "Shape of y_test: (10000,)\n"
     ]
    }
   ],
   "source": [
    "print(\"Shape of x_train:\", x_train.shape)\n",
    "print(\"Shape of y_train:\", y_train.shape)\n",
    "print(\"Shape of x_test:\", x_test.shape)\n",
    "print(\"Shape of y_test:\", y_test.shape)\n"
   ]
  },
  {
   "cell_type": "markdown",
   "metadata": {
    "colab_type": "text",
    "id": "6NXFGNwOAxFv"
   },
   "source": [
    "# Reshape data to 4D sensors"
   ]
  },
  {
   "cell_type": "code",
   "execution_count": 6,
   "metadata": {
    "colab": {
     "autoexec": {
      "startup": false,
      "wait_interval": 0
     },
     "base_uri": "https://localhost:8080/",
     "height": 51,
     "output_extras": [
      {
       "item_id": 1
      }
     ]
    },
    "colab_type": "code",
    "executionInfo": {
     "elapsed": 590,
     "status": "ok",
     "timestamp": 1521296109184,
     "user": {
      "displayName": "Kuki Szabolcs",
      "photoUrl": "https://lh3.googleusercontent.com/a/default-user=s128",
      "userId": "103845864713165439760"
     },
     "user_tz": -120
    },
    "id": "-8mS_KFD_QtG",
    "outputId": "036c106a-3086-4295-a400-af2f791aedc4"
   },
   "outputs": [
    {
     "name": "stdout",
     "output_type": "stream",
     "text": [
      "(60000, 28, 28, 1)\n",
      "(10000, 28, 28, 1)\n"
     ]
    }
   ],
   "source": [
    "x_train = np.reshape(x_train, (-1, pix_ox, pix_oy,1))\n",
    "x_test = np.reshape(x_test, (-1, pix_ox, pix_oy,1))\n",
    "print(x_train.shape)\n",
    "print(x_test.shape)\n"
   ]
  },
  {
   "cell_type": "markdown",
   "metadata": {
    "colab_type": "text",
    "id": "pV3LsXBXBvkU"
   },
   "source": [
    "# Ensure float"
   ]
  },
  {
   "cell_type": "code",
   "execution_count": 7,
   "metadata": {
    "colab": {
     "autoexec": {
      "startup": false,
      "wait_interval": 0
     }
    },
    "colab_type": "code",
    "id": "ZCNQOBsF_O8C"
   },
   "outputs": [],
   "source": [
    "x_train = x_train.astype('float32')\n",
    "x_test = x_test.astype('float32')\n"
   ]
  },
  {
   "cell_type": "markdown",
   "metadata": {
    "colab_type": "text",
    "id": "eIv-2gEZB5zF"
   },
   "source": [
    "# Normalize the data"
   ]
  },
  {
   "cell_type": "code",
   "execution_count": 8,
   "metadata": {
    "colab": {
     "autoexec": {
      "startup": false,
      "wait_interval": 0
     }
    },
    "colab_type": "code",
    "id": "PXOfwlP9B4WE"
   },
   "outputs": [],
   "source": [
    "x_train = x_train / 255.\n",
    "x_test = x_test / 255.\n"
   ]
  },
  {
   "cell_type": "markdown",
   "metadata": {
    "colab_type": "text",
    "id": "0ThIosqECSPY"
   },
   "source": [
    "# One hot encoding"
   ]
  },
  {
   "cell_type": "code",
   "execution_count": 9,
   "metadata": {
    "colab": {
     "autoexec": {
      "startup": false,
      "wait_interval": 0
     },
     "base_uri": "https://localhost:8080/",
     "height": 34,
     "output_extras": [
      {
       "item_id": 1
      }
     ]
    },
    "colab_type": "code",
    "executionInfo": {
     "elapsed": 585,
     "status": "ok",
     "timestamp": 1521296111016,
     "user": {
      "displayName": "Kuki Szabolcs",
      "photoUrl": "https://lh3.googleusercontent.com/a/default-user=s128",
      "userId": "103845864713165439760"
     },
     "user_tz": -120
    },
    "id": "YcCo4tMcCknI",
    "outputId": "4f1602fd-a3a2-4eb1-c2b1-3798877d56e4"
   },
   "outputs": [
    {
     "name": "stdout",
     "output_type": "stream",
     "text": [
      "[0. 0. 0. 0. 0. 1. 0. 0. 0. 0.]\n"
     ]
    }
   ],
   "source": [
    "y_train = to_categorical(y_train, nb_classes)\n",
    "y_test = to_categorical(y_test, nb_classes)\n",
    "\n",
    "print(y_train[544])"
   ]
  },
  {
   "cell_type": "markdown",
   "metadata": {
    "colab_type": "text",
    "id": "9dnKohe1DrXf"
   },
   "source": [
    "# The model"
   ]
  },
  {
   "cell_type": "code",
   "execution_count": 10,
   "metadata": {
    "colab": {
     "autoexec": {
      "startup": false,
      "wait_interval": 0
     }
    },
    "colab_type": "code",
    "id": "Z7MId84NDsPd"
   },
   "outputs": [],
   "source": [
    "def my_model(input_value):\n",
    "  # normalize\n",
    "  # x = BatchNormalization(x)\n",
    "  x = Conv2D(filters=32,  kernel_size=(5,5), \n",
    "             strides=(1,1), \n",
    "             padding='same')(input_value)\n",
    "  x = Activation('relu')(x)\n",
    "  x = MaxPool2D(pool_size=(2,2), strides=(2,2), padding='valid')(x)\n",
    "\n",
    "  x = Conv2D(filters=64,  kernel_size=(3,3), \n",
    "             strides=(1,1), \n",
    "             padding='same')(x)\n",
    "  x = Activation('relu')(x)\n",
    "  x = MaxPool2D(pool_size=(2,2), strides=(1,1), padding='valid')(x)\n",
    "\n",
    "  x = Conv2D(filters=64, \n",
    "             kernel_size=(3,3), \n",
    "             strides=(1,1), \n",
    "             padding='same')(x)\n",
    "  x = Activation('relu')(x)\n",
    "  x = MaxPool2D(pool_size=(2,2), strides=(1,1), padding='valid')(x)\n",
    "  \n",
    "  x = Flatten()(x)\n",
    "  x = Dense(nb_classes, activation='softmax')(x)\n",
    "\n",
    "  return x\n",
    "  "
   ]
  },
  {
   "cell_type": "markdown",
   "metadata": {
    "colab_type": "text",
    "id": "M1uwfOFNE8UU"
   },
   "source": [
    "# Functional API"
   ]
  },
  {
   "cell_type": "code",
   "execution_count": 11,
   "metadata": {
    "colab": {
     "autoexec": {
      "startup": false,
      "wait_interval": 0
     },
     "base_uri": "https://localhost:8080/",
     "height": 544,
     "output_extras": [
      {
       "item_id": 1
      }
     ]
    },
    "colab_type": "code",
    "executionInfo": {
     "elapsed": 547,
     "status": "ok",
     "timestamp": 1521296112233,
     "user": {
      "displayName": "Kuki Szabolcs",
      "photoUrl": "https://lh3.googleusercontent.com/a/default-user=s128",
      "userId": "103845864713165439760"
     },
     "user_tz": -120
    },
    "id": "itE6ggnXJsar",
    "outputId": "5ec248c0-83c6-41ff-da22-aa5c1cdc9a49"
   },
   "outputs": [
    {
     "name": "stdout",
     "output_type": "stream",
     "text": [
      "_________________________________________________________________\n",
      "Layer (type)                 Output Shape              Param #   \n",
      "=================================================================\n",
      "input_1 (InputLayer)         (None, 28, 28, 1)         0         \n",
      "_________________________________________________________________\n",
      "conv2d_1 (Conv2D)            (None, 28, 28, 32)        832       \n",
      "_________________________________________________________________\n",
      "activation_1 (Activation)    (None, 28, 28, 32)        0         \n",
      "_________________________________________________________________\n",
      "max_pooling2d_1 (MaxPooling2 (None, 14, 14, 32)        0         \n",
      "_________________________________________________________________\n",
      "conv2d_2 (Conv2D)            (None, 14, 14, 64)        18496     \n",
      "_________________________________________________________________\n",
      "activation_2 (Activation)    (None, 14, 14, 64)        0         \n",
      "_________________________________________________________________\n",
      "max_pooling2d_2 (MaxPooling2 (None, 13, 13, 64)        0         \n",
      "_________________________________________________________________\n",
      "conv2d_3 (Conv2D)            (None, 13, 13, 64)        36928     \n",
      "_________________________________________________________________\n",
      "activation_3 (Activation)    (None, 13, 13, 64)        0         \n",
      "_________________________________________________________________\n",
      "max_pooling2d_3 (MaxPooling2 (None, 12, 12, 64)        0         \n",
      "_________________________________________________________________\n",
      "flatten_1 (Flatten)          (None, 9216)              0         \n",
      "_________________________________________________________________\n",
      "dense_1 (Dense)              (None, 10)                92170     \n",
      "=================================================================\n",
      "Total params: 148,426\n",
      "Trainable params: 148,426\n",
      "Non-trainable params: 0\n",
      "_________________________________________________________________\n"
     ]
    }
   ],
   "source": [
    "inputs = Input((pix_ox, pix_oy, 1))\n",
    "out = my_model(inputs)\n",
    "\n",
    "model = Model(inputs=inputs, outputs=out)\n",
    "model.summary()"
   ]
  },
  {
   "cell_type": "markdown",
   "metadata": {
    "colab_type": "text",
    "id": "-Iq-6VViPQUw"
   },
   "source": [
    "# Compile"
   ]
  },
  {
   "cell_type": "code",
   "execution_count": 12,
   "metadata": {
    "colab": {
     "autoexec": {
      "startup": false,
      "wait_interval": 0
     }
    },
    "colab_type": "code",
    "id": "g_7LC3_nJ1Ud"
   },
   "outputs": [],
   "source": [
    "model.compile(loss='categorical_crossentropy', \n",
    "              optimizer=optim, metrics=['accuracy'])"
   ]
  },
  {
   "cell_type": "markdown",
   "metadata": {
    "colab_type": "text",
    "id": "XwD0g4fZPs5e"
   },
   "source": [
    "# Callbacks"
   ]
  },
  {
   "cell_type": "code",
   "execution_count": null,
   "metadata": {
    "colab": {
     "autoexec": {
      "startup": false,
      "wait_interval": 0
     }
    },
    "colab_type": "code",
    "id": "46WuzKu8PfRq"
   },
   "outputs": [],
   "source": [
    "class PlotLossesDuringTraining(keras.callbacks.Callback):\n",
    "  def on_train_begin(self, logs={}):\n",
    "    self.i = 0\n",
    "    self.x = []\n",
    "    self.logs = []\n",
    "    self.losses = []\n",
    "    self.test_losses = []\n",
    "    \n",
    "    self.plot = plt.figure()\n",
    "    \n",
    "    \n",
    "  def on_epoch_end(self, epoch, logs={}):\n",
    "    self.x.append(self.i)\n",
    "    self.logs.append(logs)\n",
    "    self.losses.append(logs.get('loss'))\n",
    "    self.test_losses.append(logs.get('val_loss'))\n",
    "    \n",
    "    plt.plot(self.x, self.losses, label='train')\n",
    "    plt.plot(self.x, self.test_losses, label='test')\n",
    "    plt.legend()\n",
    "    plt.show()\n",
    "    \n",
    "    self.i += 1\n",
    "\n",
    "losses_train = PlotLossesDuringTraining()"
   ]
  },
  {
   "cell_type": "markdown",
   "metadata": {
    "colab_type": "text",
    "id": "MxV26d-ZTOl2"
   },
   "source": [
    "# Train"
   ]
  },
  {
   "cell_type": "code",
   "execution_count": null,
   "metadata": {
    "colab": {
     "autoexec": {
      "startup": false,
      "wait_interval": 0
     },
     "base_uri": "https://localhost:8080/",
     "height": 3691,
     "output_extras": [
      {
       "item_id": 38
      },
      {
       "item_id": 39
      },
      {
       "item_id": 77
      },
      {
       "item_id": 78
      },
      {
       "item_id": 94
      },
      {
       "item_id": 95
      },
      {
       "item_id": 106
      },
      {
       "item_id": 107
      },
      {
       "item_id": 117
      },
      {
       "item_id": 118
      },
      {
       "item_id": 128
      },
      {
       "item_id": 129
      },
      {
       "item_id": 140
      },
      {
       "item_id": 141
      },
      {
       "item_id": 151
      },
      {
       "item_id": 152
      },
      {
       "item_id": 175
      },
      {
       "item_id": 176
      },
      {
       "item_id": 211
      },
      {
       "item_id": 212
      },
      {
       "item_id": 213
      }
     ]
    },
    "colab_type": "code",
    "executionInfo": {
     "elapsed": 96990,
     "status": "ok",
     "timestamp": 1521297007154,
     "user": {
      "displayName": "Kuki Szabolcs",
      "photoUrl": "https://lh3.googleusercontent.com/a/default-user=s128",
      "userId": "103845864713165439760"
     },
     "user_tz": -120
    },
    "id": "5F20XXI1RG_v",
    "outputId": "887576c3-7b4c-48f8-a2f8-6cf5c15647a3"
   },
   "outputs": [],
   "source": [
    "start_time = time.time()\n",
    "model.fit(x_train, y_train, \n",
    "          epochs=epochs,\n",
    "          batch_size=batch_size,\n",
    "          validation_data=(x_test, y_test),\n",
    "          callbacks=[losses_train],\n",
    "          verbose=1)\n",
    "elapsed_duration = time.time() - start_time\n",
    "\n",
    "print(\"Training time\", elapsed_duration)\n"
   ]
  },
  {
   "cell_type": "code",
   "execution_count": null,
   "metadata": {
    "colab": {
     "autoexec": {
      "startup": false,
      "wait_interval": 0
     }
    },
    "colab_type": "code",
    "id": "mLaahLRrUAvx"
   },
   "outputs": [],
   "source": []
  },
  {
   "cell_type": "code",
   "execution_count": null,
   "metadata": {},
   "outputs": [],
   "source": []
  }
 ],
 "metadata": {
  "accelerator": "GPU",
  "colab": {
   "collapsed_sections": [],
   "default_view": {},
   "name": "Meetup 2018-03-17.ipynb",
   "provenance": [],
   "version": "0.3.2",
   "views": {}
  },
  "kernelspec": {
   "display_name": "Python 3",
   "language": "python",
   "name": "python3"
  },
  "language_info": {
   "codemirror_mode": {
    "name": "ipython",
    "version": 3
   },
   "file_extension": ".py",
   "mimetype": "text/x-python",
   "name": "python",
   "nbconvert_exporter": "python",
   "pygments_lexer": "ipython3",
   "version": "3.6.4"
  }
 },
 "nbformat": 4,
 "nbformat_minor": 1
}
